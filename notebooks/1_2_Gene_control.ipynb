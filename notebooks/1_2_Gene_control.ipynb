{
 "cells": [
  {
   "cell_type": "code",
   "execution_count": 4,
   "metadata": {},
   "outputs": [],
   "source": [
    "run 'init.ipynb'"
   ]
  },
  {
   "cell_type": "code",
   "execution_count": 10,
   "metadata": {},
   "outputs": [
    {
     "data": {
      "image/png": "[encoded data removed]",
      "text/latex": [
       "$$\\left ( \\frac{a_{1}}{2}, \\quad \\frac{a_{2}}{2}\\right )$$"
      ],
      "text/plain": [
       "⎛a₁  a₂⎞\n",
       "⎜──, ──⎟\n",
       "⎝2   2 ⎠"
      ]
     },
     "execution_count": 10,
     "metadata": {},
     "output_type": "execute_result"
    }
   ],
   "source": [
    "a_1, a_2, r, x, y = sp.symbols('a_1, a_2, r, x, y')\n",
    "\n",
    "xdot = a_1 / (1 + y**r) - x\n",
    "ydot = a_2 / (1 + x**r) - y\n",
    "\n",
    "eq_x = sp.solve(xdot.subs(r, 0), x)[0]\n",
    "eq_y = sp.solve(ydot.subs(r, 0), y)[0]\n",
    "\n",
    "eq_x, eq_y"
   ]
  },
  {
   "cell_type": "code",
   "execution_count": 13,
   "metadata": {},
   "outputs": [
    {
     "data": {
      "image/png": "[encoded data removed]",
      "text/latex": [
       "$$\\left ( -1, \\quad -1\\right )$$"
      ],
      "text/plain": [
       "(-1, -1)"
      ]
     },
     "execution_count": 13,
     "metadata": {},
     "output_type": "execute_result"
    }
   ],
   "source": [
    "sp.diff(xdot, x), sp.diff(ydot, y)"
   ]
  },
  {
   "cell_type": "code",
   "execution_count": 14,
   "metadata": {},
   "outputs": [
    {
     "data": {
      "image/png": "[encoded data removed]",
      "text/latex": [
       "$$\\left ( - \\frac{a_{1} r y^{r}}{y \\left(y^{r} + 1\\right)^{2}}, \\quad - \\frac{a_{2} r x^{r}}{x \\left(x^{r} + 1\\right)^{2}}\\right )$$"
      ],
      "text/plain": [
       "⎛        r            r  ⎞\n",
       "⎜ -a₁⋅r⋅y      -a₂⋅r⋅x   ⎟\n",
       "⎜───────────, ───────────⎟\n",
       "⎜          2            2⎟\n",
       "⎜  ⎛ r    ⎞     ⎛ r    ⎞ ⎟\n",
       "⎝y⋅⎝y  + 1⎠   x⋅⎝x  + 1⎠ ⎠"
      ]
     },
     "execution_count": 14,
     "metadata": {},
     "output_type": "execute_result"
    }
   ],
   "source": [
    "sp.diff(xdot, y), sp.diff(ydot, x)"
   ]
  },
  {
   "cell_type": "code",
   "execution_count": null,
   "metadata": {},
   "outputs": [],
   "source": [
    "sp.solve()"
   ]
  }
 ],
 "metadata": {
  "kernelspec": {
   "display_name": "Python [conda env:swr-detect]",
   "language": "python",
   "name": "conda-env-swr-detect-py"
  },
  "language_info": {
   "codemirror_mode": {
    "name": "ipython",
    "version": 3
   },
   "file_extension": ".py",
   "mimetype": "text/x-python",
   "name": "python",
   "nbconvert_exporter": "python",
   "pygments_lexer": "ipython3",
   "version": "3.6.5"
  },
  "toc": {
   "base_numbering": 1,
   "nav_menu": {},
   "number_sections": false,
   "sideBar": true,
   "skip_h1_title": true,
   "title_cell": "Contents",
   "title_sidebar": "Contents",
   "toc_cell": false,
   "toc_position": {},
   "toc_section_display": true,
   "toc_window_display": false
  },
  "varInspector": {
   "cols": {
    "lenName": 16,
    "lenType": 16,
    "lenVar": 40
   },
   "kernels_config": {
    "python": {
     "delete_cmd_postfix": "",
     "delete_cmd_prefix": "del ",
     "library": "var_list.py",
     "varRefreshCmd": "print(var_dic_list())"
    },
    "r": {
     "delete_cmd_postfix": ") ",
     "delete_cmd_prefix": "rm(",
     "library": "var_list.r",
     "varRefreshCmd": "cat(var_dic_list()) "
    }
   },
   "types_to_exclude": [
    "module",
    "function",
    "builtin_function_or_method",
    "instance",
    "_Feature"
   ],
   "window_display": false
  }
 },
 "nbformat": 4,
 "nbformat_minor": 2
}
