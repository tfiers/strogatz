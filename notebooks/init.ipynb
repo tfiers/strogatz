{
 "cells": [
  {
   "cell_type": "code",
   "execution_count": null,
   "metadata": {},
   "outputs": [],
   "source": [
    "%config InteractiveShell.ast_node_interactivity = 'last_expr_or_assign'\n",
    "\n",
    "import scipy\n",
    "import numpy as np\n",
    "import pandas as pd\n",
    "import matplotlib as mpl\n",
    "import matplotlib.pyplot as plt\n",
    "import sympy as sp\n",
    "import warnings\n",
    "\n",
    "from contextlib import contextmanager\n",
    "\n",
    "import tflab.plot.style\n",
    "mpl.style.use(tflab.plot.style.paper)\n",
    "\n",
    "sp.init_printing()\n",
    "\n",
    "\n",
    "@contextmanager\n",
    "def ignore(category):\n",
    "    with warnings.catch_warnings():\n",
    "        warnings.simplefilter('ignore', category)\n",
    "        yield\n",
    "\n",
    "    \n",
    "def get_figsave(subdir='1'):\n",
    "    def save(fig, name):\n",
    "        fig.savefig(f'../figures/{subdir}/{name}.pdf')\n",
    "    return save\n",
    "\n",
    "\n",
    "def plot_traj(y, **kwargs):\n",
    "    fig, ax = plt.subplots(figsize=(6,6))\n",
    "    ax.plot(y[0,:], y[1,:], **kwargs)\n",
    "    ax.set_aspect('equal')\n",
    "    return fig, ax\n",
    "\n",
    "\n",
    "def streamplot(x, y, u, v, speed=False, **kwargs):\n",
    "    if speed:\n",
    "        speed = np.sqrt(u**2 + v**2)\n",
    "        linewidth = 5 * speed / speed.max()\n",
    "    else:\n",
    "        linewidth = 1\n",
    "    kwargs.update(linewidth=linewidth)\n",
    "    fig, ax = plt.subplots(figsize=(6,6))\n",
    "    ax.streamplot(x, y, u, v, **kwargs)\n",
    "    ax.set_aspect('equal')\n",
    "    return fig, ax\n",
    "\n",
    "\n",
    "def quiver(x, y, u, v, subsample=1, dir_only=False, **kwargs):\n",
    "    if dir_only:\n",
    "        norm = np.sqrt(u**2 + v**2)\n",
    "        norm[norm == 0] = np.nan\n",
    "        u = u / norm\n",
    "        v = v / norm\n",
    "    k = subsample\n",
    "    fig, ax = plt.subplots(figsize=(6,6))\n",
    "    ax.quiver(x[::k, ::k], y[::k, ::k], u[::k, ::k], v[::k, ::k], **kwargs)\n",
    "    ax.set_aspect('equal')\n",
    "    return fig, ax\n",
    "\n",
    "\n",
    "quiver.__doc__ = plt.quiver.__doc__\n",
    "streamplot.__doc__ = plt.streamplot.__doc__"
   ]
  },
  {
   "cell_type": "code",
   "execution_count": null,
   "metadata": {},
   "outputs": [],
   "source": []
  }
 ],
 "metadata": {
  "kernelspec": {
   "display_name": "Python [conda env:swr-detect]",
   "language": "python",
   "name": "conda-env-swr-detect-py"
  },
  "language_info": {
   "codemirror_mode": {
    "name": "ipython",
    "version": 3
   },
   "file_extension": ".py",
   "mimetype": "text/x-python",
   "name": "python",
   "nbconvert_exporter": "python",
   "pygments_lexer": "ipython3",
   "version": "3.6.5"
  },
  "toc": {
   "base_numbering": 1,
   "nav_menu": {},
   "number_sections": false,
   "sideBar": true,
   "skip_h1_title": true,
   "title_cell": "Contents",
   "title_sidebar": "Contents",
   "toc_cell": false,
   "toc_position": {},
   "toc_section_display": true,
   "toc_window_display": false
  },
  "varInspector": {
   "cols": {
    "lenName": 16,
    "lenType": 16,
    "lenVar": 40
   },
   "kernels_config": {
    "python": {
     "delete_cmd_postfix": "",
     "delete_cmd_prefix": "del ",
     "library": "var_list.py",
     "varRefreshCmd": "print(var_dic_list())"
    },
    "r": {
     "delete_cmd_postfix": ") ",
     "delete_cmd_prefix": "rm(",
     "library": "var_list.r",
     "varRefreshCmd": "cat(var_dic_list()) "
    }
   },
   "types_to_exclude": [
    "module",
    "function",
    "builtin_function_or_method",
    "instance",
    "_Feature"
   ],
   "window_display": false
  }
 },
 "nbformat": 4,
 "nbformat_minor": 2
}
